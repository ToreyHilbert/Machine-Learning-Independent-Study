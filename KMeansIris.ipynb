{
 "cells": [
  {
   "cell_type": "markdown",
   "metadata": {},
   "source": [
    "# K-Means clustering algorithm with the Iris dataset.\n",
    "\n",
    "by Torey Hilbert (June to December 2017)\n",
    "\n",
    "The key parameters for clustering are a distance measure and the number of clusters (the k). I sampled a few distance metrics, but settled for the Manhattan distance. I found 9 clusters gave the highest accuracy. \n",
    "\n",
    "Data: In the Iris dataset each row represents a unique iris flower, including its sepal length, sepal width, pedal width, and species. The target is to accurately predict/group by plant species. My code loads this dataset from the sklearn library (iris dataset), but the same data is also available from UCI ML: http://archive.ics.uci.edu/ml/datasets/Iris"
   ]
  },
  {
   "cell_type": "code",
   "execution_count": 1,
   "metadata": {
    "collapsed": false
   },
   "outputs": [
    {
     "name": "stdout",
     "output_type": "stream",
     "text": [
      "Iris Plants Database\n",
      "====================\n",
      "\n",
      "Notes\n",
      "-----\n",
      "Data Set Characteristics:\n",
      "    :Number of Instances: 150 (50 in each of three classes)\n",
      "    :Number of Attributes: 4 numeric, predictive attributes and the class\n",
      "    :Attribute Information:\n",
      "        - sepal length in cm\n",
      "        - sepal width in cm\n",
      "        - petal length in cm\n",
      "        - petal width in cm\n",
      "        - class:\n",
      "                - Iris-Setosa\n",
      "                - Iris-Versicolour\n",
      "                - Iris-Virginica\n",
      "    :Summary Statistics:\n",
      "\n",
      "    ============== ==== ==== ======= ===== ====================\n",
      "                    Min  Max   Mean    SD   Class Correlation\n",
      "    ============== ==== ==== ======= ===== ====================\n",
      "    sepal length:   4.3  7.9   5.84   0.83    0.7826\n",
      "    sepal width:    2.0  4.4   3.05   0.43   -0.4194\n",
      "    petal length:   1.0  6.9   3.76   1.76    0.9490  (high!)\n",
      "    petal width:    0.1  2.5   1.20  0.76     0.9565  (high!)\n",
      "    ============== ==== ==== ======= ===== ====================\n",
      "\n",
      "    :Missing Attribute Values: None\n",
      "    :Class Distribution: 33.3% for each of 3 classes.\n",
      "    :Creator: R.A. Fisher\n",
      "    :Donor: Michael Marshall (MARSHALL%PLU@io.arc.nasa.gov)\n",
      "    :Date: July, 1988\n",
      "\n",
      "This is a copy of UCI ML iris datasets.\n",
      "http://archive.ics.uci.edu/ml/datasets/Iris\n",
      "\n",
      "The famous Iris database, first used by Sir R.A Fisher\n",
      "\n",
      "This is perhaps the best known database to be found in the\n",
      "pattern recognition literature.  Fisher's paper is a classic in the field and\n",
      "is referenced frequently to this day.  (See Duda & Hart, for example.)  The\n",
      "data set contains 3 classes of 50 instances each, where each class refers to a\n",
      "type of iris plant.  One class is linearly separable from the other 2; the\n",
      "latter are NOT linearly separable from each other.\n",
      "\n",
      "References\n",
      "----------\n",
      "   - Fisher,R.A. \"The use of multiple measurements in taxonomic problems\"\n",
      "     Annual Eugenics, 7, Part II, 179-188 (1936); also in \"Contributions to\n",
      "     Mathematical Statistics\" (John Wiley, NY, 1950).\n",
      "   - Duda,R.O., & Hart,P.E. (1973) Pattern Classification and Scene Analysis.\n",
      "     (Q327.D83) John Wiley & Sons.  ISBN 0-471-22361-1.  See page 218.\n",
      "   - Dasarathy, B.V. (1980) \"Nosing Around the Neighborhood: A New System\n",
      "     Structure and Classification Rule for Recognition in Partially Exposed\n",
      "     Environments\".  IEEE Transactions on Pattern Analysis and Machine\n",
      "     Intelligence, Vol. PAMI-2, No. 1, 67-71.\n",
      "   - Gates, G.W. (1972) \"The Reduced Nearest Neighbor Rule\".  IEEE Transactions\n",
      "     on Information Theory, May 1972, 431-433.\n",
      "   - See also: 1988 MLC Proceedings, 54-64.  Cheeseman et al\"s AUTOCLASS II\n",
      "     conceptual clustering system finds 3 classes in the data.\n",
      "   - Many, many more ...\n",
      "\n"
     ]
    }
   ],
   "source": [
    "from __future__ import division\n",
    "import math\n",
    "import random\n",
    "import matplotlib.pyplot as plt\n",
    "from sklearn.datasets import load_iris #Used to load the iris dataset\n",
    "_iris = load_iris()\n",
    "print _iris.DESCR"
   ]
  },
  {
   "cell_type": "code",
   "execution_count": 2,
   "metadata": {
    "collapsed": false
   },
   "outputs": [],
   "source": [
    "class Flower:\n",
    "    def __init__(self, sepalLength, sepalWidth, petalLength, petalWidth, name):\n",
    "        self.sepalLength = sepalLength\n",
    "        self.sepalWidth = sepalWidth\n",
    "        self.petalLength = petalLength\n",
    "        self.petalWidth = petalWidth\n",
    "        #This is the number of the cluster closest to this flower. A cluster of -1 means no assigned cluster\n",
    "        self.cluster = -1\n",
    "        self.name = name\n",
    "\n",
    "    #Makes it easy to iterate across the data in the Flower\n",
    "    def info(self):\n",
    "        return [self.sepalLength, self.sepalWidth, self.petalLength, self.petalWidth]\n",
    "\n",
    "    #Finds the clostest cluster and assigns itself to it\n",
    "    def findCluster(self, clusters):\n",
    "        self.cluster = clusters[0].clusterNumber\n",
    "        distance = clusters[0].d_toMean(self.info())\n",
    "        for cluster in clusters:\n",
    "            if cluster.d_toMean(self.info()) < distance:\n",
    "                self.cluster = cluster.clusterNumber\n",
    "                distance = cluster.d_toMean(self.info())"
   ]
  },
  {
   "cell_type": "code",
   "execution_count": 3,
   "metadata": {
    "collapsed": false
   },
   "outputs": [],
   "source": [
    "#Set up train / test data\n",
    "iris = []\n",
    "test = []\n",
    "for i in range(len(_iris.data)):\n",
    "    if (i % 4 == 0):\n",
    "        flower = _iris.data[i]\n",
    "        test.append(Flower(flower[0], flower[1], flower[2], flower[3], _iris.target[i]))\n",
    "    else:\n",
    "        flower = _iris.data[i]\n",
    "        iris.append(Flower(flower[0], flower[1], flower[2], flower[3], _iris.target[i]))"
   ]
  },
  {
   "cell_type": "code",
   "execution_count": 4,
   "metadata": {
    "collapsed": false
   },
   "outputs": [],
   "source": [
    "# These are the functions to define distance, although these are basic, if there were to be non numerical data this would be necessary\n",
    "def d_sepalLength(a, b):\n",
    "    return abs(a - b)\n",
    "\n",
    "def d_sepalWidth(a, b):\n",
    "    return abs(a - b)\n",
    "\n",
    "def d_petalLength(a, b):\n",
    "    return abs(a - b)\n",
    "\n",
    "def d_petalWidth(a, b):\n",
    "    return abs(a - b)\n",
    "\n",
    "#Distance functions, used to iterate across the info in the flowers\n",
    "dfs =  [d_sepalLength, d_sepalWidth, d_petalLength, d_petalWidth]"
   ]
  },
  {
   "cell_type": "code",
   "execution_count": 5,
   "metadata": {
    "collapsed": false
   },
   "outputs": [],
   "source": [
    "class Cluster:\n",
    "    distanceFunctions = dfs\n",
    "    members = []\n",
    "    avgMemberType = -1\n",
    "    #To begin, assign each cluster a data point to start at\n",
    "    def __init__(self, clusterNumber, initialInfo):\n",
    "        self.clusterNumber = clusterNumber\n",
    "        self.mean = initialInfo\n",
    "\n",
    "    #Adjusts the mean to accurately reflect the members of the cluster\n",
    "    def recenter (self):\n",
    "        if (len(self.members) != 0):\n",
    "            for i in range(len(self.mean)):\n",
    "                s = 0\n",
    "                for member in self.members:\n",
    "                    s = s + member.info()[i]\n",
    "                self.mean[i] = s / len(self.members)\n",
    "\n",
    "    #Finds the distance from a random flower to the mean of the cluster\n",
    "    def d_toMean(self, flowerInfo):\n",
    "        return sum( df_i(f_i, m_i) for (df_i, f_i, m_i) in zip(self.distanceFunctions, flowerInfo, self.mean))\n",
    "\n",
    "    #Finds average flower type of the cluster, uses this value to predict the flower type of an unknown member of the cluster\n",
    "    def averageMember(self):\n",
    "        counts = [0, 0, 0]\n",
    "        for flower in self.members:\n",
    "            counts[flower.name] += 1\n",
    "        self.avgMemberType = counts.index(max(counts))\n",
    "        return self.avgMemberType"
   ]
  },
  {
   "cell_type": "code",
   "execution_count": 6,
   "metadata": {
    "collapsed": false
   },
   "outputs": [],
   "source": [
    "#This sets up the Clusters, randomly assigning a random flower to each cluster\n",
    "def setupClusters(numClusters):\n",
    "    clusters = []\n",
    "    for i in range(numClusters):\n",
    "        random_flower = iris[random.randint(0, len(iris) - 1)]\n",
    "        cluster = Cluster(i, random_flower.info())\n",
    "        clusters.append(cluster)\n",
    "    return clusters"
   ]
  },
  {
   "cell_type": "code",
   "execution_count": 7,
   "metadata": {
    "collapsed": false
   },
   "outputs": [],
   "source": [
    "#This is the training of the data\n",
    "def assignToClusters(clusters):\n",
    "    for i in range(len(clusters)):\n",
    "        clusters[i].members = []\n",
    "    for flower in iris:\n",
    "        flower.findCluster(clusters)\n",
    "        clusters[flower.cluster].members.append(flower)"
   ]
  },
  {
   "cell_type": "code",
   "execution_count": 8,
   "metadata": {
    "collapsed": false,
    "scrolled": true
   },
   "outputs": [],
   "source": [
    "#This actually runs the algorithm\n",
    "def runClusters_n(numClusters):\n",
    "    clusters_n = setupClusters(numClusters)\n",
    "    for n in range(30):\n",
    "        assignToClusters(clusters_n)\n",
    "        for i in range(len(clusters_n)):\n",
    "            clusters_n[i].recenter()\n",
    "    for i in range(len(clusters_n)):\n",
    "        clusters_n[i].averageMember()\n",
    "    test_score = 0\n",
    "    for flower in test:\n",
    "        flower.findCluster(clusters_n)\n",
    "        if (clusters_n[flower.cluster].avgMemberType == flower.name):\n",
    "            test_score += 1\n",
    "    return test_score / len(test)"
   ]
  },
  {
   "cell_type": "code",
   "execution_count": 9,
   "metadata": {
    "collapsed": false
   },
   "outputs": [
    {
     "name": "stdout",
     "output_type": "stream",
     "text": [
      "3  clusters gives an accuracy of  0.917368421053\n",
      "4  clusters gives an accuracy of  0.892105263158\n",
      "5  clusters gives an accuracy of  0.927894736842\n",
      "6  clusters gives an accuracy of  0.943684210526\n",
      "7  clusters gives an accuracy of  0.967894736842\n",
      "8  clusters gives an accuracy of  0.973684210526\n",
      "9  clusters gives an accuracy of  0.972105263158\n",
      "10  clusters gives an accuracy of  0.973157894737\n",
      "11  clusters gives an accuracy of  0.974736842105\n",
      "12  clusters gives an accuracy of  0.971052631579\n",
      "13  clusters gives an accuracy of  0.97\n",
      "14  clusters gives an accuracy of  0.971578947368\n",
      "15  clusters gives an accuracy of  0.974736842105\n",
      "16  clusters gives an accuracy of  0.971578947368\n",
      "17  clusters gives an accuracy of  0.972631578947\n",
      "18  clusters gives an accuracy of  0.973684210526\n",
      "19  clusters gives an accuracy of  0.97\n"
     ]
    },
    {
     "data": {
      "image/png": "[encoded data removed]",
      "text/plain": [
       "<matplotlib.figure.Figure at 0x986df28>"
      ]
     },
     "metadata": {},
     "output_type": "display_data"
    }
   ],
   "source": [
    "#Runs the clustering algorithm from random starting positions 50 times for every number of clusters 3 to 19, and subsequently uses those to predict the flower type of all 38 elements of the test data (set asside at the beginning for that purpose). Takes the average accuracy from those 30 trials and displays it here, then graphs.\n",
    "\n",
    "#This will be a list of accuracies, with index being number of clusters used.\n",
    "nclusters = [0, 0, 0]\n",
    "for i in range(3, 20):\n",
    "    nclusters.append(0)\n",
    "    # Repeat the aglorithm 50 times with i clusters\n",
    "    for n in range(50):\n",
    "        nclusters[i] += runClusters_n(i)\n",
    "    nclusters[i] /= 50 # We are taking the average of 50 trials\n",
    "    print i, \" clusters gives an accuracy of \", nclusters[i]\n",
    "\n",
    "plt.plot(range(3,20), nclusters[3:20])\n",
    "plt.title(\"Number of clusters vs Accuracy\")\n",
    "plt.ylabel(\"Average accuracy after 30 clusters\")\n",
    "plt.xlabel(\"Number of clusters\")\n",
    "plt.axis([3, 19, 0.90, 1.00])\n",
    "plt.show()"
   ]
  },
  {
   "cell_type": "markdown",
   "metadata": {
    "collapsed": false
   },
   "source": [
    "From the above, we see that the accuracy peaks at around $97\\%$ with 9 clusters. However, on occasion cluster numbers greater than 9 produce similar or higher accuracies. There are two reasons that 9 clusters is better however. First of all, \"overfitting\" can be an issue. Overfitting is when you model every little detail of a dataset too closely. If there is an outlier in your training set and you overfit the data, your model will always predict normal samples incorrectly if it is similar to some of the outliers. This is dangerous, and as such should be avoided. With too many clusters, we run the risk of doing that with our samples here. Another reason is that as we increase the number of clusters, not all the clusters are actually being used. With another example, we can see what is going on there. Several of the initial clusters are becoming nearly empty. To demonstrate this, we will count, on average, how many clusters become nearly empty, having 2 or fewer members in it by the end of the recentering process when starting with various numbers of clusters."
   ]
  },
  {
   "cell_type": "code",
   "execution_count": 10,
   "metadata": {
    "collapsed": false
   },
   "outputs": [
    {
     "name": "stdout",
     "output_type": "stream",
     "text": [
      "The average number of empty clusters is  0.0  when starting with  3  clusters\n",
      "The average number of empty clusters is  0.0  when starting with  4  clusters\n",
      "The average number of empty clusters is  0.05  when starting with  5  clusters\n",
      "The average number of empty clusters is  0.05  when starting with  6  clusters\n",
      "The average number of empty clusters is  0.05  when starting with  7  clusters\n",
      "The average number of empty clusters is  0.05  when starting with  8  clusters\n",
      "The average number of empty clusters is  0.35  when starting with  9  clusters\n",
      "The average number of empty clusters is  0.3  when starting with  10  clusters\n",
      "The average number of empty clusters is  0.35  when starting with  11  clusters\n",
      "The average number of empty clusters is  1.2  when starting with  12  clusters\n",
      "The average number of empty clusters is  0.8  when starting with  13  clusters\n",
      "The average number of empty clusters is  1.2  when starting with  14  clusters\n",
      "The average number of empty clusters is  1.3  when starting with  15  clusters\n",
      "The average number of empty clusters is  1.6  when starting with  16  clusters\n",
      "The average number of empty clusters is  2.15  when starting with  17  clusters\n",
      "The average number of empty clusters is  3.1  when starting with  18  clusters\n",
      "The average number of empty clusters is  2.95  when starting with  19  clusters\n",
      "The average number of empty clusters is  3.85  when starting with  20  clusters\n",
      "The average number of empty clusters is  3.3  when starting with  21  clusters\n",
      "The average number of empty clusters is  5.2  when starting with  22  clusters\n",
      "The average number of empty clusters is  4.85  when starting with  23  clusters\n"
     ]
    },
    {
     "data": {
      "image/png": "[encoded data removed]",
      "text/plain": [
       "<matplotlib.figure.Figure at 0x9a827b8>"
      ]
     },
     "metadata": {},
     "output_type": "display_data"
    }
   ],
   "source": [
    "#Checks number of empty clusters and plots\n",
    "nclusters = [0, 0, 0]\n",
    "for n in range(3, 24):\n",
    "    emptyClusters = 0\n",
    "    for i in range(20):\n",
    "        clusters_n = setupClusters(n)\n",
    "        for j in range(20):\n",
    "            assignToClusters(clusters_n)\n",
    "            for k in range(len(clusters_n)):\n",
    "                clusters_n[k].recenter()\n",
    "        for k in range(len(clusters_n)):\n",
    "            if (len(clusters_n[k].members) < 3):\n",
    "                emptyClusters += 1\n",
    "    nclusters.append(emptyClusters / 20)\n",
    "    print \"The average number of empty clusters is \", emptyClusters / 20, \" when starting with \", n, \" clusters\"\n",
    "\n",
    "plt.plot(range(3,24), nclusters[3:24])\n",
    "plt.title(\"Number of Clusters vs Number of Empty Clusters\")\n",
    "plt.ylabel(\"Average number of clusters with 2 or fewer members\")\n",
    "plt.xlabel(\"Number of intial clusters\")\n",
    "plt.axis([3, 23, 0, 4])\n",
    "plt.show()"
   ]
  }
 ],
 "metadata": {
  "kernelspec": {
   "display_name": "Python 2",
   "language": "python",
   "name": "python2"
  },
  "language_info": {
   "codemirror_mode": {
    "name": "ipython",
    "version": 2
   },
   "file_extension": ".py",
   "mimetype": "text/x-python",
   "name": "python",
   "nbconvert_exporter": "python",
   "pygments_lexer": "ipython2",
   "version": "2.7.13"
  }
 },
 "nbformat": 4,
 "nbformat_minor": 0
}
